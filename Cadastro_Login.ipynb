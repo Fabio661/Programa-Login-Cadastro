{
  "nbformat": 4,
  "nbformat_minor": 0,
  "metadata": {
    "colab": {
      "provenance": []
    },
    "kernelspec": {
      "name": "python3",
      "display_name": "Python 3"
    },
    "language_info": {
      "name": "python"
    }
  },
  "cells": [
    {
      "cell_type": "code",
      "source": [
        "def erro_login(login, senha):\n",
        "  opcao = 0\n",
        "  while opcao != 2:\n",
        "    print(\"\"\"[1] Tentar novamente\n",
        "[2] Encerrar login\"\"\")    \n",
        "    opcao = input(\"Qual sua opção? \")\n",
        "    if opcao == str(1):\n",
        "      login = input(\"Informe seu login: \")\n",
        "      senha = input(\"Informe sua senha: \")\n",
        "\n",
        "      if (login == login_cadastrado) & (senha == senha_cadastrada):\n",
        "        print(\"Acesso permitido\")\n",
        "        break\n",
        "        \n",
        "      elif (login != login_cadastrado) & (senha == senha_cadastrada):\n",
        "        print(\"Login incorreto\")\n",
        "        \n",
        "      elif (login == login_cadastrado) & (senha != senha_cadastrada):    \n",
        "        print(\"Senha incorreta\")\n",
        "\n",
        "      elif (login != login_cadastrado) & (senha != senha_cadastrada):\n",
        "        print(\"Login e senha incorretos\")\n",
        "            \n",
        "    if opcao == str(2):\n",
        "        print(\"Login encerrado\")\n",
        "        break\n",
        "\n",
        "    else:\n",
        "      print(\"Opção invalida\")"
      ],
      "metadata": {
        "id": "XA6ftTNQB06k"
      },
      "execution_count": 14,
      "outputs": []
    },
    {
      "cell_type": "code",
      "execution_count": null,
      "metadata": {
        "id": "dVCWNWIskC0F"
      },
      "outputs": [],
      "source": [
        "login_cadastrado = input(\"Informe seu login de cadastro: \")\n",
        "senha_cadastrada = input(\"Informe sua senha de cadastro: \")\n",
        "\n",
        "login = input(\"Informe seu login: \")\n",
        "senha = input(\"Informe sua senha: \")\n",
        "\n",
        "def logar(login, senha) -> str:\n",
        "  if (login == login_cadastrado) & (senha == senha_cadastrada):\n",
        "    print(\"Acesso permitido\")\n",
        "  \n",
        "  elif (login != login_cadastrado) & (senha == senha_cadastrada):\n",
        "    print(\"Login incorreto\")\n",
        "    erro_login(login, senha)\n",
        "\n",
        "  elif (login == login_cadastrado) & (senha != senha_cadastrada):\n",
        "    print(\"Senha incorreta\")\n",
        "    erro_login(login, senha)\n",
        "\n",
        "  elif (login != login_cadastrado) & (senha != senha_cadastrada):\n",
        "    print(\"Login e senha incorretos\")\n",
        "    erro_login(login, senha)\n",
        "\n",
        "\n",
        "logar(login, senha)\n"
      ]
    }
  ]
}